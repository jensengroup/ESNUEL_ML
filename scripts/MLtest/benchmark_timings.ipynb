{
 "cells": [
  {
   "cell_type": "code",
   "execution_count": 38,
   "metadata": {},
   "outputs": [],
   "source": [
    "import os\n",
    "import sys\n",
    "import time\n",
    "from tqdm import tqdm\n",
    "import numpy as np\n",
    "import pandas as pd"
   ]
  },
  {
   "cell_type": "code",
   "execution_count": 39,
   "metadata": {},
   "outputs": [
    {
     "data": {
      "text/plain": [
       "'/Users/nicolairee/KU_data/esnuelML/ESNUEL_ML'"
      ]
     },
     "execution_count": 39,
     "metadata": {},
     "output_type": "execute_result"
    }
   ],
   "source": [
    "base_dir = os.path.dirname(os.path.realpath('__file__')).replace('/scripts/MLtest', '')\n",
    "base_dir"
   ]
  },
  {
   "cell_type": "markdown",
   "metadata": {},
   "source": [
    "# Load Models"
   ]
  },
  {
   "cell_type": "code",
   "execution_count": 40,
   "metadata": {},
   "outputs": [],
   "source": [
    "sys.path.append(os.path.join(base_dir, 'src/esnuelML'))\n",
    "from DescriptorCreator.GraphChargeShell import GraphChargeShell\n",
    "from predictor import run_MAA_and_MCA_predictions, pred_MAA_and_MCA"
   ]
  },
  {
   "cell_type": "markdown",
   "metadata": {},
   "source": [
    "# QM data"
   ]
  },
  {
   "cell_type": "code",
   "execution_count": 44,
   "metadata": {},
   "outputs": [
    {
     "name": "stdout",
     "output_type": "stream",
     "text": [
      "1112\n"
     ]
    },
    {
     "data": {
      "text/html": [
       "<div>\n",
       "<style scoped>\n",
       "    .dataframe tbody tr th:only-of-type {\n",
       "        vertical-align: middle;\n",
       "    }\n",
       "\n",
       "    .dataframe tbody tr th {\n",
       "        vertical-align: top;\n",
       "    }\n",
       "\n",
       "    .dataframe thead th {\n",
       "        text-align: right;\n",
       "    }\n",
       "</style>\n",
       "<table border=\"1\" class=\"dataframe\">\n",
       "  <thead>\n",
       "    <tr style=\"text-align: right;\">\n",
       "      <th></th>\n",
       "      <th>name</th>\n",
       "      <th>smiles</th>\n",
       "      <th>atomIdx</th>\n",
       "      <th>MAA PBE0-D3(BJ)/DEF2-TZVP COSMO(inf)</th>\n",
       "      <th>MAA r2SCAN-3c SMD(DMSO)//GFN1-xTB ALPB(DMSO)</th>\n",
       "      <th>MAA lightGBM</th>\n",
       "      <th>MAA lightGBM estimated error</th>\n",
       "    </tr>\n",
       "  </thead>\n",
       "  <tbody>\n",
       "    <tr>\n",
       "      <th>0</th>\n",
       "      <td>baldiELEC1</td>\n",
       "      <td>CC(C)(C)[CH:1]=[OH+]</td>\n",
       "      <td>4</td>\n",
       "      <td>379.886477</td>\n",
       "      <td>481.163549</td>\n",
       "      <td>199.337315</td>\n",
       "      <td>31.848634</td>\n",
       "    </tr>\n",
       "    <tr>\n",
       "      <th>1</th>\n",
       "      <td>baldiELEC2</td>\n",
       "      <td>CCC[C+:1](C=C(C)C)CC</td>\n",
       "      <td>3</td>\n",
       "      <td>346.354255</td>\n",
       "      <td>417.642625</td>\n",
       "      <td>198.191911</td>\n",
       "      <td>32.835047</td>\n",
       "    </tr>\n",
       "  </tbody>\n",
       "</table>\n",
       "</div>"
      ],
      "text/plain": [
       "         name                smiles  atomIdx  \\\n",
       "0  baldiELEC1  CC(C)(C)[CH:1]=[OH+]        4   \n",
       "1  baldiELEC2  CCC[C+:1](C=C(C)C)CC        3   \n",
       "\n",
       "   MAA PBE0-D3(BJ)/DEF2-TZVP COSMO(inf)  \\\n",
       "0                            379.886477   \n",
       "1                            346.354255   \n",
       "\n",
       "   MAA r2SCAN-3c SMD(DMSO)//GFN1-xTB ALPB(DMSO)  MAA lightGBM  \\\n",
       "0                                    481.163549    199.337315   \n",
       "1                                    417.642625    198.191911   \n",
       "\n",
       "   MAA lightGBM estimated error  \n",
       "0                     31.848634  \n",
       "1                     32.835047  "
      ]
     },
     "execution_count": 44,
     "metadata": {},
     "output_type": "execute_result"
    }
   ],
   "source": [
    "df_elec = pd.read_csv(os.path.join(base_dir, 'data/benchmark/electrophilicity.csv'))\n",
    "print(df_elec.shape[0])\n",
    "df_elec.head(2)"
   ]
  },
  {
   "cell_type": "code",
   "execution_count": 45,
   "metadata": {},
   "outputs": [
    {
     "name": "stderr",
     "output_type": "stream",
     "text": [
      "100%|██████████| 1112/1112 [07:44<00:00,  2.39it/s]\n"
     ]
    }
   ],
   "source": [
    "elec_time_list = []\n",
    "for idx, row in tqdm(df_elec.iterrows(), total=df_elec.shape[0]):\n",
    "    t1 = time.time()\n",
    "    df_elec, df_nuc, elec_names_list, MAA_values, elec_sites_list, nuc_names_list, MCA_values, nuc_sites_list = pred_MAA_and_MCA(row['smiles'], row['name'])\n",
    "    t2=time.time()\n",
    "    elec_time_list.append(t2-t1)"
   ]
  },
  {
   "cell_type": "code",
   "execution_count": 46,
   "metadata": {},
   "outputs": [
    {
     "name": "stdout",
     "output_type": "stream",
     "text": [
      "Mean:   0.416 second(s)\n",
      "Median: 0.372 second(s)\n"
     ]
    }
   ],
   "source": [
    "print(f'Mean:   {np.mean(elec_time_list):.3f} second(s)')\n",
    "print(f'Median: {np.median(elec_time_list):.3f} second(s)')"
   ]
  },
  {
   "cell_type": "code",
   "execution_count": null,
   "metadata": {},
   "outputs": [],
   "source": []
  },
  {
   "cell_type": "code",
   "execution_count": 47,
   "metadata": {},
   "outputs": [
    {
     "name": "stdout",
     "output_type": "stream",
     "text": [
      "1229\n"
     ]
    },
    {
     "data": {
      "text/html": [
       "<div>\n",
       "<style scoped>\n",
       "    .dataframe tbody tr th:only-of-type {\n",
       "        vertical-align: middle;\n",
       "    }\n",
       "\n",
       "    .dataframe tbody tr th {\n",
       "        vertical-align: top;\n",
       "    }\n",
       "\n",
       "    .dataframe thead th {\n",
       "        text-align: right;\n",
       "    }\n",
       "</style>\n",
       "<table border=\"1\" class=\"dataframe\">\n",
       "  <thead>\n",
       "    <tr style=\"text-align: right;\">\n",
       "      <th></th>\n",
       "      <th>name</th>\n",
       "      <th>smiles</th>\n",
       "      <th>atomIdx</th>\n",
       "      <th>MCA PBE0-D3(BJ)/DEF2-TZVP COSMO(inf)</th>\n",
       "      <th>MCA r2SCAN-3c SMD(DMSO)//GFN1-xTB ALPB(DMSO)</th>\n",
       "      <th>MCA lightGBM</th>\n",
       "      <th>MCA lightGBM estimated error</th>\n",
       "    </tr>\n",
       "  </thead>\n",
       "  <tbody>\n",
       "    <tr>\n",
       "      <th>0</th>\n",
       "      <td>baldiNUC1</td>\n",
       "      <td>CC(C)(C)C[O:1]CC(C)(C)C</td>\n",
       "      <td>5</td>\n",
       "      <td>275.306076</td>\n",
       "      <td>324.454275</td>\n",
       "      <td>325.166019</td>\n",
       "      <td>19.664086</td>\n",
       "    </tr>\n",
       "    <tr>\n",
       "      <th>1</th>\n",
       "      <td>baldiNUC2</td>\n",
       "      <td>c1ccc(CC(c2ccccc2)=[O:1])cc1</td>\n",
       "      <td>12</td>\n",
       "      <td>296.181700</td>\n",
       "      <td>336.079165</td>\n",
       "      <td>336.753036</td>\n",
       "      <td>11.448423</td>\n",
       "    </tr>\n",
       "  </tbody>\n",
       "</table>\n",
       "</div>"
      ],
      "text/plain": [
       "        name                        smiles  atomIdx  \\\n",
       "0  baldiNUC1       CC(C)(C)C[O:1]CC(C)(C)C        5   \n",
       "1  baldiNUC2  c1ccc(CC(c2ccccc2)=[O:1])cc1       12   \n",
       "\n",
       "   MCA PBE0-D3(BJ)/DEF2-TZVP COSMO(inf)  \\\n",
       "0                            275.306076   \n",
       "1                            296.181700   \n",
       "\n",
       "   MCA r2SCAN-3c SMD(DMSO)//GFN1-xTB ALPB(DMSO)  MCA lightGBM  \\\n",
       "0                                    324.454275    325.166019   \n",
       "1                                    336.079165    336.753036   \n",
       "\n",
       "   MCA lightGBM estimated error  \n",
       "0                     19.664086  \n",
       "1                     11.448423  "
      ]
     },
     "execution_count": 47,
     "metadata": {},
     "output_type": "execute_result"
    }
   ],
   "source": [
    "df_nuc = pd.read_csv(os.path.join(base_dir, 'data/benchmark/nucleophilicity.csv'))\n",
    "print(df_nuc.shape[0])\n",
    "df_nuc.head(2)"
   ]
  },
  {
   "cell_type": "code",
   "execution_count": 48,
   "metadata": {},
   "outputs": [
    {
     "name": "stderr",
     "output_type": "stream",
     "text": [
      "100%|██████████| 1229/1229 [07:48<00:00,  2.62it/s]\n"
     ]
    }
   ],
   "source": [
    "nuc_time_list = []\n",
    "for idx, row in tqdm(df_nuc.iterrows(), total=df_nuc.shape[0]):\n",
    "    t1 = time.time()\n",
    "    df_elec, df_nuc, elec_names_list, MAA_values, elec_sites_list, nuc_names_list, MCA_values, nuc_sites_list = pred_MAA_and_MCA(row['smiles'], row['name'])\n",
    "    t2=time.time()\n",
    "    nuc_time_list.append(t2-t1)"
   ]
  },
  {
   "cell_type": "code",
   "execution_count": 49,
   "metadata": {},
   "outputs": [
    {
     "name": "stdout",
     "output_type": "stream",
     "text": [
      "Mean:   0.380 second(s)\n",
      "Median: 0.350 second(s)\n"
     ]
    }
   ],
   "source": [
    "print(f'Mean:   {np.mean(nuc_time_list):.3f} second(s)')\n",
    "print(f'Median: {np.median(nuc_time_list):.3f} second(s)')"
   ]
  },
  {
   "cell_type": "code",
   "execution_count": null,
   "metadata": {},
   "outputs": [],
   "source": []
  },
  {
   "cell_type": "code",
   "execution_count": 50,
   "metadata": {},
   "outputs": [
    {
     "name": "stdout",
     "output_type": "stream",
     "text": [
      "Mean:   0.397 second(s)\n",
      "Median: 0.361 second(s)\n"
     ]
    }
   ],
   "source": [
    "print(f'Mean:   {np.mean(np.concatenate([elec_time_list,nuc_time_list])):.3f} second(s)')\n",
    "print(f'Median: {np.median(np.concatenate([elec_time_list,nuc_time_list])):.3f} second(s)')"
   ]
  },
  {
   "cell_type": "code",
   "execution_count": null,
   "metadata": {},
   "outputs": [],
   "source": []
  }
 ],
 "metadata": {
  "kernelspec": {
   "display_name": "Python 3.9.1 ('heckpredictor')",
   "language": "python",
   "name": "python3"
  },
  "language_info": {
   "codemirror_mode": {
    "name": "ipython",
    "version": 3
   },
   "file_extension": ".py",
   "mimetype": "text/x-python",
   "name": "python",
   "nbconvert_exporter": "python",
   "pygments_lexer": "ipython3",
   "version": "3.9.1"
  },
  "metadata": {
   "interpreter": {
    "hash": "deb5961e33013b42ae1b0fe94d37f1c7e3dbdbc905fe90bb3ec625f67c4d049c"
   }
  },
  "orig_nbformat": 2,
  "vscode": {
   "interpreter": {
    "hash": "02fa88640c2300b8c1b809d416bf688fec697e6551bc923ae0ddcfbbda454689"
   }
  }
 },
 "nbformat": 4,
 "nbformat_minor": 2
}
